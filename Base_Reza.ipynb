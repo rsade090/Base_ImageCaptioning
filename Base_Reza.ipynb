{
 "cells": [
  {
   "cell_type": "code",
   "execution_count": 1,
   "id": "046fbb6a",
   "metadata": {},
   "outputs": [],
   "source": [
    "import numpy as np\n",
    "import pandas as pd\n",
    "import os\n",
    "import matplotlib.pyplot as plt\n",
    "from tensorflow.keras.preprocessing import image\n",
    "from keras.preprocessing.text import Tokenizer\n",
    "import tensorflow as tf\n",
    "from keras_preprocessing.sequence import pad_sequences"
   ]
  },
  {
   "cell_type": "code",
   "execution_count": 2,
   "id": "2209006a",
   "metadata": {},
   "outputs": [
    {
     "data": {
      "text/plain": [
       "['.DS_Store', 'flickr30k_images', 'results.csv']"
      ]
     },
     "execution_count": 2,
     "metadata": {},
     "output_type": "execute_result"
    }
   ],
   "source": [
    "os.listdir('/Users/reza/Desktop/PhD_thesis/datasets/flickr30k_images')\n"
   ]
  },
  {
   "cell_type": "code",
   "execution_count": 3,
   "id": "6df0950e",
   "metadata": {},
   "outputs": [
    {
     "name": "stdout",
     "output_type": "stream",
     "text": [
      "Empty DataFrame\n",
      "Columns: [image_name,  comment_number,  comment]\n",
      "Index: []\n"
     ]
    },
    {
     "data": {
      "text/html": [
       "<div>\n",
       "<style scoped>\n",
       "    .dataframe tbody tr th:only-of-type {\n",
       "        vertical-align: middle;\n",
       "    }\n",
       "\n",
       "    .dataframe tbody tr th {\n",
       "        vertical-align: top;\n",
       "    }\n",
       "\n",
       "    .dataframe thead th {\n",
       "        text-align: right;\n",
       "    }\n",
       "</style>\n",
       "<table border=\"1\" class=\"dataframe\">\n",
       "  <thead>\n",
       "    <tr style=\"text-align: right;\">\n",
       "      <th></th>\n",
       "      <th>image_name</th>\n",
       "      <th>comment_number</th>\n",
       "      <th>comment</th>\n",
       "    </tr>\n",
       "  </thead>\n",
       "  <tbody>\n",
       "    <tr>\n",
       "      <th>0</th>\n",
       "      <td>1000092795.jpg</td>\n",
       "      <td>0</td>\n",
       "      <td>Two young guys with shaggy hair look at their...</td>\n",
       "    </tr>\n",
       "    <tr>\n",
       "      <th>1</th>\n",
       "      <td>1000092795.jpg</td>\n",
       "      <td>1</td>\n",
       "      <td>Two young , White males are outside near many...</td>\n",
       "    </tr>\n",
       "    <tr>\n",
       "      <th>2</th>\n",
       "      <td>1000092795.jpg</td>\n",
       "      <td>2</td>\n",
       "      <td>Two men in green shirts are standing in a yard .</td>\n",
       "    </tr>\n",
       "    <tr>\n",
       "      <th>3</th>\n",
       "      <td>1000092795.jpg</td>\n",
       "      <td>3</td>\n",
       "      <td>A man in a blue shirt standing in a garden .</td>\n",
       "    </tr>\n",
       "    <tr>\n",
       "      <th>4</th>\n",
       "      <td>1000092795.jpg</td>\n",
       "      <td>4</td>\n",
       "      <td>Two friends enjoy time spent together .</td>\n",
       "    </tr>\n",
       "  </tbody>\n",
       "</table>\n",
       "</div>"
      ],
      "text/plain": [
       "       image_name  comment_number  \\\n",
       "0  1000092795.jpg               0   \n",
       "1  1000092795.jpg               1   \n",
       "2  1000092795.jpg               2   \n",
       "3  1000092795.jpg               3   \n",
       "4  1000092795.jpg               4   \n",
       "\n",
       "                                             comment  \n",
       "0   Two young guys with shaggy hair look at their...  \n",
       "1   Two young , White males are outside near many...  \n",
       "2   Two men in green shirts are standing in a yard .  \n",
       "3       A man in a blue shirt standing in a garden .  \n",
       "4            Two friends enjoy time spent together .  "
      ]
     },
     "execution_count": 3,
     "metadata": {},
     "output_type": "execute_result"
    }
   ],
   "source": [
    "metadata = pd.read_csv('/Users/reza/Desktop/PhD_thesis/datasets/flickr30k_images/results.csv',delimiter='|',engine='python')\n",
    "metadata = metadata.dropna()\n",
    "is_NaN = metadata.isnull()\n",
    "row_has_NaN = is_NaN.any(axis=1)\n",
    "rows_with_NaN = metadata[row_has_NaN]\n",
    "print(rows_with_NaN)\n",
    "metadata.head()"
   ]
  },
  {
   "cell_type": "code",
   "execution_count": 4,
   "id": "b1ccca76",
   "metadata": {},
   "outputs": [],
   "source": [
    "#from tensorflow.keras.utils import load_img"
   ]
  },
  {
   "cell_type": "code",
   "execution_count": 5,
   "id": "c73208aa",
   "metadata": {},
   "outputs": [],
   "source": [
    "def load_image(name):\n",
    "    img=image.load_img(name,target_size=(32,32,3))\n",
    "    img=image.img_to_array(img)\n",
    "    img=np.reshape(img,(32*32*3))\n",
    "    return img"
   ]
  },
  {
   "cell_type": "code",
   "execution_count": null,
   "id": "dbb9bc3a",
   "metadata": {},
   "outputs": [],
   "source": []
  },
  {
   "cell_type": "code",
   "execution_count": 6,
   "id": "4647fecb",
   "metadata": {},
   "outputs": [
    {
     "name": "stdout",
     "output_type": "stream",
     "text": [
      "31783\n",
      "158914\n"
     ]
    }
   ],
   "source": [
    "print(len(metadata['image_name'].unique()))\n",
    "print(len(metadata['image_name']))"
   ]
  },
  {
   "cell_type": "code",
   "execution_count": 7,
   "id": "1b554778",
   "metadata": {},
   "outputs": [],
   "source": [
    "image_arr = []\n",
    "sentence_arr = []\n",
    "for ind in range(5000):\n",
    "    if ind % 5 != 0:\n",
    "        continue\n",
    "    image_location = (metadata.iloc[ind,:]['image_name'])\n",
    "    sentence = (metadata.iloc[ind,:][' comment'])\n",
    "    \n",
    "    \n",
    "    image_arr.append(load_image('/Users/reza/Desktop/PhD_thesis/datasets/flickr30k_images/flickr30k_images/flickr30k_images/'+str(image_location)) )\n",
    "    sentence_arr.append('<SOS>'+sentence+'<EOS>')\n",
    "    \n",
    "        \n",
    "Images =  np.array(image_arr)\n"
   ]
  },
  {
   "cell_type": "code",
   "execution_count": 8,
   "id": "ecbd5961",
   "metadata": {},
   "outputs": [],
   "source": [
    "image_arr=load_image('/Users/reza/Desktop/PhD_thesis/datasets/flickr30k_images/flickr30k_images/36979.jpg')"
   ]
  },
  {
   "cell_type": "code",
   "execution_count": 9,
   "id": "18cce532",
   "metadata": {},
   "outputs": [
    {
     "data": {
      "text/plain": [
       "(3072,)"
      ]
     },
     "execution_count": 9,
     "metadata": {},
     "output_type": "execute_result"
    }
   ],
   "source": [
    "image_arr.shape"
   ]
  },
  {
   "cell_type": "code",
   "execution_count": 10,
   "id": "f65f26f4",
   "metadata": {},
   "outputs": [
    {
     "data": {
      "text/plain": [
       "(1000, 3072)"
      ]
     },
     "execution_count": 10,
     "metadata": {},
     "output_type": "execute_result"
    }
   ],
   "source": [
    "Images.shape"
   ]
  },
  {
   "cell_type": "code",
   "execution_count": 11,
   "id": "1dc759bf",
   "metadata": {},
   "outputs": [
    {
     "data": {
      "text/plain": [
       "1000"
      ]
     },
     "execution_count": 11,
     "metadata": {},
     "output_type": "execute_result"
    }
   ],
   "source": [
    "len(sentence_arr)"
   ]
  },
  {
   "cell_type": "code",
   "execution_count": 12,
   "id": "7c036924",
   "metadata": {},
   "outputs": [
    {
     "data": {
      "text/plain": [
       "'<SOS> Two young guys with shaggy hair look at their hands while hanging out in the yard .<EOS>'"
      ]
     },
     "execution_count": 12,
     "metadata": {},
     "output_type": "execute_result"
    }
   ],
   "source": [
    "sentence_arr[0]"
   ]
  },
  {
   "cell_type": "code",
   "execution_count": 13,
   "id": "8bb09f48",
   "metadata": {},
   "outputs": [
    {
     "data": {
      "text/plain": [
       "'<SOS> Several men in hard hats are operating a giant pulley system .<EOS>'"
      ]
     },
     "execution_count": 13,
     "metadata": {},
     "output_type": "execute_result"
    }
   ],
   "source": [
    "sentence_arr[1]"
   ]
  },
  {
   "cell_type": "code",
   "execution_count": 14,
   "id": "4cd8ee6b",
   "metadata": {},
   "outputs": [
    {
     "data": {
      "text/plain": [
       "'<SOS> A child in a pink dress is climbing up a set of stairs in an entry way .<EOS>'"
      ]
     },
     "execution_count": 14,
     "metadata": {},
     "output_type": "execute_result"
    }
   ],
   "source": [
    "sentence_arr[2]"
   ]
  },
  {
   "cell_type": "code",
   "execution_count": 15,
   "id": "b9c2bbd7",
   "metadata": {},
   "outputs": [
    {
     "data": {
      "text/html": [
       "<div>\n",
       "<style scoped>\n",
       "    .dataframe tbody tr th:only-of-type {\n",
       "        vertical-align: middle;\n",
       "    }\n",
       "\n",
       "    .dataframe tbody tr th {\n",
       "        vertical-align: top;\n",
       "    }\n",
       "\n",
       "    .dataframe thead th {\n",
       "        text-align: right;\n",
       "    }\n",
       "</style>\n",
       "<table border=\"1\" class=\"dataframe\">\n",
       "  <thead>\n",
       "    <tr style=\"text-align: right;\">\n",
       "      <th></th>\n",
       "      <th>image_name</th>\n",
       "      <th>comment_number</th>\n",
       "      <th>comment</th>\n",
       "    </tr>\n",
       "  </thead>\n",
       "  <tbody>\n",
       "    <tr>\n",
       "      <th>0</th>\n",
       "      <td>1000092795.jpg</td>\n",
       "      <td>0</td>\n",
       "      <td>Two young guys with shaggy hair look at their...</td>\n",
       "    </tr>\n",
       "    <tr>\n",
       "      <th>1</th>\n",
       "      <td>1000092795.jpg</td>\n",
       "      <td>1</td>\n",
       "      <td>Two young , White males are outside near many...</td>\n",
       "    </tr>\n",
       "    <tr>\n",
       "      <th>2</th>\n",
       "      <td>1000092795.jpg</td>\n",
       "      <td>2</td>\n",
       "      <td>Two men in green shirts are standing in a yard .</td>\n",
       "    </tr>\n",
       "    <tr>\n",
       "      <th>3</th>\n",
       "      <td>1000092795.jpg</td>\n",
       "      <td>3</td>\n",
       "      <td>A man in a blue shirt standing in a garden .</td>\n",
       "    </tr>\n",
       "    <tr>\n",
       "      <th>4</th>\n",
       "      <td>1000092795.jpg</td>\n",
       "      <td>4</td>\n",
       "      <td>Two friends enjoy time spent together .</td>\n",
       "    </tr>\n",
       "    <tr>\n",
       "      <th>5</th>\n",
       "      <td>10002456.jpg</td>\n",
       "      <td>0</td>\n",
       "      <td>Several men in hard hats are operating a gian...</td>\n",
       "    </tr>\n",
       "    <tr>\n",
       "      <th>6</th>\n",
       "      <td>10002456.jpg</td>\n",
       "      <td>1</td>\n",
       "      <td>Workers look down from up above on a piece of...</td>\n",
       "    </tr>\n",
       "    <tr>\n",
       "      <th>7</th>\n",
       "      <td>10002456.jpg</td>\n",
       "      <td>2</td>\n",
       "      <td>Two men working on a machine wearing hard hats .</td>\n",
       "    </tr>\n",
       "    <tr>\n",
       "      <th>8</th>\n",
       "      <td>10002456.jpg</td>\n",
       "      <td>3</td>\n",
       "      <td>Four men on top of a tall structure .</td>\n",
       "    </tr>\n",
       "    <tr>\n",
       "      <th>9</th>\n",
       "      <td>10002456.jpg</td>\n",
       "      <td>4</td>\n",
       "      <td>Three men on a large rig .</td>\n",
       "    </tr>\n",
       "    <tr>\n",
       "      <th>10</th>\n",
       "      <td>1000268201.jpg</td>\n",
       "      <td>0</td>\n",
       "      <td>A child in a pink dress is climbing up a set ...</td>\n",
       "    </tr>\n",
       "    <tr>\n",
       "      <th>11</th>\n",
       "      <td>1000268201.jpg</td>\n",
       "      <td>1</td>\n",
       "      <td>A little girl in a pink dress going into a wo...</td>\n",
       "    </tr>\n",
       "    <tr>\n",
       "      <th>12</th>\n",
       "      <td>1000268201.jpg</td>\n",
       "      <td>2</td>\n",
       "      <td>A little girl climbing the stairs to her play...</td>\n",
       "    </tr>\n",
       "    <tr>\n",
       "      <th>13</th>\n",
       "      <td>1000268201.jpg</td>\n",
       "      <td>3</td>\n",
       "      <td>A little girl climbing into a wooden playhouse</td>\n",
       "    </tr>\n",
       "    <tr>\n",
       "      <th>14</th>\n",
       "      <td>1000268201.jpg</td>\n",
       "      <td>4</td>\n",
       "      <td>A girl going into a wooden building .</td>\n",
       "    </tr>\n",
       "  </tbody>\n",
       "</table>\n",
       "</div>"
      ],
      "text/plain": [
       "        image_name  comment_number  \\\n",
       "0   1000092795.jpg               0   \n",
       "1   1000092795.jpg               1   \n",
       "2   1000092795.jpg               2   \n",
       "3   1000092795.jpg               3   \n",
       "4   1000092795.jpg               4   \n",
       "5     10002456.jpg               0   \n",
       "6     10002456.jpg               1   \n",
       "7     10002456.jpg               2   \n",
       "8     10002456.jpg               3   \n",
       "9     10002456.jpg               4   \n",
       "10  1000268201.jpg               0   \n",
       "11  1000268201.jpg               1   \n",
       "12  1000268201.jpg               2   \n",
       "13  1000268201.jpg               3   \n",
       "14  1000268201.jpg               4   \n",
       "\n",
       "                                              comment  \n",
       "0    Two young guys with shaggy hair look at their...  \n",
       "1    Two young , White males are outside near many...  \n",
       "2    Two men in green shirts are standing in a yard .  \n",
       "3        A man in a blue shirt standing in a garden .  \n",
       "4             Two friends enjoy time spent together .  \n",
       "5    Several men in hard hats are operating a gian...  \n",
       "6    Workers look down from up above on a piece of...  \n",
       "7    Two men working on a machine wearing hard hats .  \n",
       "8               Four men on top of a tall structure .  \n",
       "9                          Three men on a large rig .  \n",
       "10   A child in a pink dress is climbing up a set ...  \n",
       "11   A little girl in a pink dress going into a wo...  \n",
       "12   A little girl climbing the stairs to her play...  \n",
       "13    A little girl climbing into a wooden playhouse   \n",
       "14              A girl going into a wooden building .  "
      ]
     },
     "execution_count": 15,
     "metadata": {},
     "output_type": "execute_result"
    }
   ],
   "source": [
    "metadata.iloc[0:15,:]\n"
   ]
  },
  {
   "cell_type": "code",
   "execution_count": 16,
   "id": "4c7e6db9",
   "metadata": {},
   "outputs": [],
   "source": [
    "def tokenize(x):\n",
    "    tokenizer=Tokenizer()\n",
    "    tokenizer.fit_on_texts(x)\n",
    "    t=tokenizer.texts_to_sequences(x)\n",
    "    return t, tokenizer"
   ]
  },
  {
   "cell_type": "code",
   "execution_count": 17,
   "id": "8278ead1",
   "metadata": {},
   "outputs": [
    {
     "name": "stdout",
     "output_type": "stream",
     "text": [
      "text_tokenized is : [[3, 1, 2, 4], [2, 1, 5]]\n",
      "tokenizer is : <keras.preprocessing.text.Tokenizer object at 0x12e6e6b20>\n"
     ]
    }
   ],
   "source": [
    "text_tokenized,tokenizer=tokenize(['ehasan is reza brother','reza is student'])\n",
    "print('text_tokenized is :',text_tokenized)\n",
    "print('tokenizer is :',tokenizer)"
   ]
  },
  {
   "cell_type": "code",
   "execution_count": 19,
   "id": "edcf9e43",
   "metadata": {},
   "outputs": [],
   "source": [
    "def pad(x, length=None):\n",
    "    padding=pad_sequences(x,padding='post',maxlen=length)\n",
    "    return padding"
   ]
  },
  {
   "cell_type": "code",
   "execution_count": 21,
   "id": "8ff808a8",
   "metadata": {},
   "outputs": [],
   "source": [
    "def preprocess(sentences):\n",
    "    text_tokenized, text_tokenizer= tokenize(sentences)\n",
    "    text_pad=pad(text_tokenized)\n",
    "    return text_pad , text_tokenizer\n",
    "Sentence, token_Sentence=preprocess(sentence_arr)"
   ]
  },
  {
   "cell_type": "code",
   "execution_count": 22,
   "id": "45979f8a",
   "metadata": {},
   "outputs": [
    {
     "name": "stdout",
     "output_type": "stream",
     "text": [
      "Sentence vocabulary size: 2302\n",
      "Sentence Longest sentence size: 51\n"
     ]
    }
   ],
   "source": [
    "print(\"Sentence vocabulary size:\", len(token_Sentence.word_index))\n",
    "print(\"Sentence Longest sentence size:\", len(Sentence[0]))"
   ]
  },
  {
   "cell_type": "code",
   "execution_count": 24,
   "id": "87552b4d",
   "metadata": {},
   "outputs": [
    {
     "data": {
      "text/plain": [
       "keras.preprocessing.text.Tokenizer"
      ]
     },
     "execution_count": 24,
     "metadata": {},
     "output_type": "execute_result"
    }
   ],
   "source": [
    "type(token_Sentence)"
   ]
  },
  {
   "cell_type": "code",
   "execution_count": 26,
   "id": "64a9b803",
   "metadata": {},
   "outputs": [
    {
     "data": {
      "text/plain": [
       "((1000, 3072), (1000, 51))"
      ]
     },
     "execution_count": 26,
     "metadata": {},
     "output_type": "execute_result"
    }
   ],
   "source": [
    "Images.shape , Sentence.shape"
   ]
  },
  {
   "cell_type": "code",
   "execution_count": null,
   "id": "c0235ae7",
   "metadata": {},
   "outputs": [
    {
     "ename": "",
     "evalue": "",
     "output_type": "error",
     "traceback": [
      "\u001b[1;31mJupyter cannot be started. Error attempting to locate Jupyter: Running cells with 'Python 3.9.10 64-bit' requires jupyter and notebook package.\n",
      "\u001b[1;31mRun the following command to install 'jupyter and notebook' into the Python environment. \n",
      "\u001b[1;31mCommand: 'python -m pip install jupyter notebook -U\n",
      "\u001b[1;31mor\n",
      "\u001b[1;31mconda install jupyter notebook -U'\n",
      "\u001b[1;31mClick <a href='https://aka.ms/installJupyterForVSCode'>here</a> for more info."
     ]
    }
   ],
   "source": [
    "#added this to see what is difference\n",
    "#ezafe shod"
   ]
  },
  {
   "cell_type": "code",
   "execution_count": null,
   "id": "df545d3f",
   "metadata": {},
   "outputs": [],
   "source": []
  },
  {
   "cell_type": "code",
   "execution_count": null,
   "id": "2c39b6b8",
   "metadata": {},
   "outputs": [],
   "source": []
  }
 ],
 "metadata": {
  "kernelspec": {
   "display_name": "Python 3.9.10 64-bit",
   "language": "python",
   "name": "python3"
  },
  "language_info": {
   "codemirror_mode": {
    "name": "ipython",
    "version": 3
   },
   "file_extension": ".py",
   "mimetype": "text/x-python",
   "name": "python",
   "nbconvert_exporter": "python",
   "pygments_lexer": "ipython3",
   "version": "3.9.10"
  },
  "vscode": {
   "interpreter": {
    "hash": "b0fa6594d8f4cbf19f97940f81e996739fb7646882a419484c72d19e05852a7e"
   }
  }
 },
 "nbformat": 4,
 "nbformat_minor": 5
}
